{
 "cells": [
  {
   "cell_type": "code",
   "execution_count": 6,
   "metadata": {},
   "outputs": [],
   "source": [
    "import json\n",
    "import os\n",
    "\n",
    "source_dir = 'data/training_data'\n",
    "\n",
    "target_dir = 'data/processed'\n",
    "\n",
    "files = os.listdir('data/training_data')\n"
   ]
  },
  {
   "cell_type": "code",
   "execution_count": 7,
   "metadata": {},
   "outputs": [],
   "source": [
    "import jsonlines\n",
    "\n",
    "\n",
    "prompt = 'Given a question and four options, please select the right answer. Your answer should be \\\"A\\\", \\\"B\\\", \\\"C\\\" or \\\"D\\\". Please solve the problem through step-by-step reasoning, and provide the final answer in the last line, formatted as follows: The correct answer is: \\boxed{{Your answer}}.\\n\\n{question}\\n{options}'\n",
    "\n",
    "massages = []\n",
    "for f in files:\n",
    "    raw_data = json.load(open(os.path.join(source_dir, f)))\n",
    "    with jsonlines.open(os.path.join(target_dir, f.replace('.json', '.jsonl')), 'w') as writer:\n",
    "        for item in raw_data:\n",
    "            question_content = item[\"question\"]\n",
    "            option_content = \"\\n\"\n",
    "            for option, text in zip(item[\"choices\"][\"label\"], item[\"choices\"][\"text\"]):\n",
    "                option_content += f\"{option}. {text}\\n\"\n",
    "            actual_question = prompt.format(question=question_content, options=option_content)\n",
    "            request_massage = [\n",
    "                {\"role\": \"user\", \"content\": actual_question}\n",
    "            ]\n",
    "            massages.append(request_massage)\n",
    "            writer.write({'massage': request_massage})\n",
    "            \n",
    "    "
   ]
  },
  {
   "cell_type": "code",
   "execution_count": null,
   "metadata": {},
   "outputs": [],
   "source": []
  }
 ],
 "metadata": {
  "kernelspec": {
   "display_name": "base",
   "language": "python",
   "name": "python3"
  },
  "language_info": {
   "codemirror_mode": {
    "name": "ipython",
    "version": 3
   },
   "file_extension": ".py",
   "mimetype": "text/x-python",
   "name": "python",
   "nbconvert_exporter": "python",
   "pygments_lexer": "ipython3",
   "version": "3.12.2"
  }
 },
 "nbformat": 4,
 "nbformat_minor": 2
}
